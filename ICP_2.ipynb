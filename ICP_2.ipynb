{
  "nbformat": 4,
  "nbformat_minor": 0,
  "metadata": {
    "colab": {
      "provenance": [],
      "include_colab_link": true
    },
    "kernelspec": {
      "name": "python3",
      "display_name": "Python 3"
    },
    "language_info": {
      "name": "python"
    }
  },
  "cells": [
    {
      "cell_type": "markdown",
      "metadata": {
        "id": "view-in-github",
        "colab_type": "text"
      },
      "source": [
        "<a href=\"https://colab.research.google.com/github/Nikithakadaparthi/Neural-network/blob/main/ICP_2.ipynb\" target=\"_parent\"><img src=\"https://colab.research.google.com/assets/colab-badge.svg\" alt=\"Open In Colab\"/></a>"
      ]
    },
    {
      "cell_type": "code",
      "execution_count": 1,
      "metadata": {
        "colab": {
          "base_uri": "https://localhost:8080/"
        },
        "id": "lIo7s8tFRmrS",
        "outputId": "e3a1941c-cb44-4647-9d9e-2b4401e962fd"
      },
      "outputs": [
        {
          "output_type": "stream",
          "name": "stdout",
          "text": [
            "Count of the Employees : 3\n",
            "Average salary of the Employee: 600000.0\n",
            "Employee Name: Akhila\n",
            "Family Members: 4\n",
            "Employee Annual Salary: 1800000\n",
            "Department: Automation Tester\n",
            "==========\n",
            "Employee Name : Uday Kumar\n",
            "Family Members: 4\n",
            "Employee Annual Salary: 1900000\n",
            "Department: Business Analyst\n",
            "Type of Employment : Fulltime\n",
            "==========\n",
            "Employee Name : Nithya Reddy\n",
            "Family Members: 3\n",
            "Employee Annual Salary: 2900000\n",
            "Department: Power BI Developer\n",
            "Type of Employment : Fulltime\n",
            "==========\n"
          ]
        }
      ],
      "source": [
        "# QUE 1\n",
        "\n",
        "class Employee:\n",
        "    # DATA MEMBER TO COUNT THE NUMBER OF EMPLOYEES\n",
        "    empCount = 0\n",
        "\n",
        "    # CONSTRUCTOR TO INITIALIZE NAME, FAMILY, SALARY, DEPARTMENT\n",
        "    def __init__(self, name, family, salary, department):\n",
        "        self.name = name\n",
        "        self.family = family\n",
        "        self.salary = salary\n",
        "        self.department = department\n",
        "        Employee.empCount += 1    # EMPLOYEE COUNT\n",
        "\n",
        "    # FUNCTION FOR AVERAGE SALARY OF EMPLOYEE\n",
        "    def avg_salary(self):\n",
        "        total_salary = 0\n",
        "        total_salary += float(self.salary)\n",
        "        avg = total_salary / Employee.empCount\n",
        "        print('Average salary of the Employee:', avg)\n",
        "\n",
        "    # TO DISPLAY DETAILS OF EMPLOYEE\n",
        "    def display(self):\n",
        "        print('Employee Name:', self.name)\n",
        "        print('Family Members:', self.family)\n",
        "        print('Employee Annual Salary:', self.salary)\n",
        "        print('Department:', self.department)\n",
        "        print(\"==========\")\n",
        "\n",
        "# INHERITING - EMPLOYEE CLASS\n",
        "class Fulltime_Employee(Employee):\n",
        "    def __init__(self, name, family, salary, department, emp_type):\n",
        "        Employee.__init__(self, name, family, salary, department)\n",
        "        self.emp_type = emp_type\n",
        "\n",
        "    #FUNCTION TO DISPLAY EMPLOYEE DETAILS\n",
        "    def display(self):\n",
        "        print(\"Employee Name :\", self.name)\n",
        "        print('Family Members:', self.family)\n",
        "        print('Employee Annual Salary:', self.salary)\n",
        "        print('Department:', self.department)\n",
        "        print('Type of Employment :', self.emp_type)\n",
        "        print(\"==========\")\n",
        "\n",
        "\n",
        "# INSTANCES FOR EMPLOYEE CLASS\n",
        "emp1 = Employee('Akhila', '4', '1800000', 'Automation Tester')\n",
        "# INSTANCE FOR FULL TIME EMPLOYEE\n",
        "emp2 = Fulltime_Employee('Uday Kumar', '4', '1900000', 'Business Analyst', 'Fulltime')\n",
        "emp3 = Fulltime_Employee('Nithya Reddy', '3', '2900000', 'Power BI Developer', 'Fulltime')\n",
        "\n",
        "print(\"Count of the Employees :\", emp1.empCount)\n",
        "emp1.avg_salary()\n",
        "emp1.display()\n",
        "emp2.display()\n",
        "emp3.display()"
      ]
    },
    {
      "cell_type": "code",
      "source": [
        "# QUE 2\n",
        "\n",
        "import numpy as np\n",
        "\n",
        "# creating array of size as 20\n",
        "random_vector = np.random.uniform(1, 20, 20)\n",
        "print(\"Random Vector : \\n\", random_vector)\n",
        "\n",
        "# reshape the array to 4 cross 5\n",
        "random_vector = random_vector.reshape(4,5)\n",
        "print(\"after reshaping (4 by 5): \\n\", random_vector)\n",
        "\n",
        "# replace the maximum in each row\n",
        "random_vector[np.arange(len(random_vector)), random_vector.argmax(1)] = 0\n",
        "print(\"Replacing the maximum in each row : \\n\", random_vector)"
      ],
      "metadata": {
        "colab": {
          "base_uri": "https://localhost:8080/"
        },
        "id": "4ZTg2pv9THAy",
        "outputId": "a1ba7cd4-acc2-4401-81d5-f8fa27ca0fe5"
      },
      "execution_count": null,
      "outputs": [
        {
          "output_type": "stream",
          "name": "stdout",
          "text": [
            "Random Vector : \n",
            " [ 8.37786464  7.38753374  5.75924559  8.17057456 15.58180591 18.83504107\n",
            " 19.98837123 11.79718365 16.7741499  16.80435349  2.86169706 17.08650967\n",
            "  8.47578347 11.93110063 10.73893175 19.74079902 16.31842599 17.97240882\n",
            "  6.25517314  1.62688415]\n",
            "after reshaping (4 by 5): \n",
            " [[ 8.37786464  7.38753374  5.75924559  8.17057456 15.58180591]\n",
            " [18.83504107 19.98837123 11.79718365 16.7741499  16.80435349]\n",
            " [ 2.86169706 17.08650967  8.47578347 11.93110063 10.73893175]\n",
            " [19.74079902 16.31842599 17.97240882  6.25517314  1.62688415]]\n",
            "Replacing the maximum in each row : \n",
            " [[ 8.37786464  7.38753374  5.75924559  8.17057456  0.        ]\n",
            " [18.83504107  0.         11.79718365 16.7741499  16.80435349]\n",
            " [ 2.86169706  0.          8.47578347 11.93110063 10.73893175]\n",
            " [ 0.         16.31842599 17.97240882  6.25517314  1.62688415]]\n"
          ]
        }
      ]
    }
  ]
}